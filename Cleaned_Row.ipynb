{
  "nbformat": 4,
  "nbformat_minor": 0,
  "metadata": {
    "colab": {
      "provenance": [],
      "collapsed_sections": []
    },
    "kernelspec": {
      "name": "python3",
      "display_name": "Python 3"
    },
    "language_info": {
      "name": "python"
    }
  },
  "cells": [
    {
      "cell_type": "code",
      "execution_count": 1,
      "metadata": {
        "id": "Po_DM-17m7Hm"
      },
      "outputs": [],
      "source": [
        "import re\n",
        "import pandas as pd\n",
        "import numpy as np\n"
      ]
    },
    {
      "cell_type": "code",
      "source": [
        "df4=pd.read_csv('phone_user_review_file_4.csv',encoding='ISO-8859-1')"
      ],
      "metadata": {
        "id": "F4V3hjHLnVyD"
      },
      "execution_count": 2,
      "outputs": []
    },
    {
      "cell_type": "code",
      "source": [
        "df8 = pd.DataFrame(columns=['test']) \n",
        "for ind in df4.index: \n",
        "    if re.match(r\"([^a-zA-Z0-9])\",df4.iloc[ind]['source']): \n",
        "         df4.drop([df4.index[ind]]) #delete first\n",
        "    if re.search(r\"(Ã)\",df4.iloc[ind]['source']): \n",
        "         df4.drop([df4.index[ind]]) #delete first \n",
        "    if re.search(r\"(\\?)\",df4.iloc[ind]['source']): \n",
        "         df4.drop([df4.index[ind]]) #delete first \n",
        "    else:\n",
        "        df8.loc[ind,['test']]=df4.iloc[ind]['source'] "
      ],
      "metadata": {
        "id": "Tvx_AiRnnHA0"
      },
      "execution_count": 5,
      "outputs": []
    },
    {
      "cell_type": "code",
      "source": [
        "df8['test'].unique()"
      ],
      "metadata": {
        "colab": {
          "base_uri": "https://localhost:8080/"
        },
        "id": "F9E-Ro2Epb3s",
        "outputId": "fb4999d2-4473-44da-bf61-e8ece1ad1f2c"
      },
      "execution_count": 6,
      "outputs": [
        {
          "output_type": "execute_result",
          "data": {
            "text/plain": [
              "array(['Amazon', 'Zopper', 'Shopclues', 'Irecommend', 'Cepworld',\n",
              "       'Yandex', 'Ozon', 'Hotline.ua', 'DNS', 'Onliner', 'Mob.org',\n",
              "       '24 Shop', 'Rozetka', 'CNET', 'Phone Arena', 'Samsung', 'Newegg',\n",
              "       'Shopping.com', 'ReviewStream', 'HandCellPhone', '91 Mobiles',\n",
              "       'PriceSpy', 'Ciao', 'Dooyoo', 'Optus', 'After Dawn', 'Mobile fun',\n",
              "       'Yopi ', 'Tkat', 'PCComponents', 'Moviles', 'Prisjakt',\n",
              "       'Verkkokauppa', 'LesMobiles', 'Otzyvua', 'Zoom.br', 'Pixmania',\n",
              "       'Walmart', 'City Key', 'Extra', 'Shop Fato', 'Arukereso.hu',\n",
              "       'Submarino', 'Phonehouse', 'Vergelijk', 'Priceminister',\n",
              "       'Hepsiburada', 'Consumenten Bond', 'Utinet', 'Americanas', 'Cimri',\n",
              "       'Gittigidiyor', 'Notebooksbilliger', 'SFR', 'Naaptol', 'Otzovik',\n",
              "       'Cissa Magazine', 'HTC', 'Phone Scoop', 'eBay', 'Comparateur',\n",
              "       'Fnac', 'KIESKEURIG', 'Tweakers.net', 'Mobiles-Actus',\n",
              "       'Phone House', 'SmartphoneShop', 'PDA Shop', 'Quesabesde',\n",
              "       'MTS.ru', 'Protoria', 'Fotos.ua', 'Forum Celular', 'Colombo',\n",
              "       'Tiklayaz', 'Magazine Luiza', 'Tecnozoom', 'LG', 'Bell',\n",
              "       'RueDuCommerce', 'Meinpaket', 'PriceRunner', 'Inside-handy',\n",
              "       'MediaMarkt', 'Toneto', 'Schede-Cellulari.it', 'Preistrend',\n",
              "       'ShopMania', 'Guenstiger.de', 'Orange', 'Xtrem Media',\n",
              "       'Samsung Fun', 'Bondfaro', 'Ceptown', 'Pooki', 'TestMateriel',\n",
              "       'LG Electronics', 'Price.ua', 'Shoptime', 'Bimeks', 'PriceCheck',\n",
              "       'Otkliki', 'ITP.net', 'Shopping-UOL', 'Winnie Kepala',\n",
              "       'Geizhals.de', 'CentralPoint', 'Darty', 'Rakuten', 'InfiBeam',\n",
              "       'Conrad', 'HEAR.nl', 'John Lewis', 'Belsimpel', 'Mobi Guru',\n",
              "       'Yahoo Shopping', 'Bellen.com', 'Centralpoint', 'MercadoLibre',\n",
              "       'Rue Hardware', 'Handy MC', 'Portable Gear', 'Typhone', 'Alza',\n",
              "       'CDON', 'Esato', 'Eldorado', 'Freemans', 'Snapdeal', 'Smartprix',\n",
              "       'Vertaa', 'ALTERNATE', 'Mall.cz', 'Fotosidan', 'Bol.com',\n",
              "       'GetGoods'], dtype=object)"
            ]
          },
          "metadata": {},
          "execution_count": 6
        }
      ]
    }
  ]
}